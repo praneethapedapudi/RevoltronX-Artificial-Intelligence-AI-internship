{
  "nbformat": 4,
  "nbformat_minor": 0,
  "metadata": {
    "colab": {
      "provenance": []
    },
    "kernelspec": {
      "name": "python3",
      "display_name": "Python 3"
    },
    "language_info": {
      "name": "python"
    }
  },
  "cells": [
    {
      "cell_type": "markdown",
      "source": [
        "# **Yoga Pose Detection, Classification, and Accuracy Feedback**\n",
        "\n",
        "This project performs:\n",
        "1. **Pose Detection**: Detects body landmarks using MediaPipe.\n",
        "2. **Pose Classification**: Identifies the yoga pose using a pre-trained model.\n",
        "3. **Pose Accuracy Calculation**: Compares the user's pose to a reference pose and provides accuracy feedback.\n",
        "\n",
        "---\n",
        "\n",
        "## **Step 1: Install Required Libraries**\n",
        "Install MediaPipe and OpenCV for pose detection and image processing.\n",
        "\n"
      ],
      "metadata": {
        "id": "aIKZggVHzJ1L"
      }
    },
    {
      "cell_type": "code",
      "execution_count": 2,
      "metadata": {
        "colab": {
          "base_uri": "https://localhost:8080/"
        },
        "id": "xGq1Sd_Xs7U_",
        "outputId": "a725a65f-3372-4254-835c-8b539f5e2fcf"
      },
      "outputs": [
        {
          "output_type": "stream",
          "name": "stdout",
          "text": [
            "Requirement already satisfied: mediapipe in /usr/local/lib/python3.10/dist-packages (0.10.18)\n",
            "Requirement already satisfied: opencv-python-headless in /usr/local/lib/python3.10/dist-packages (4.10.0.84)\n",
            "Requirement already satisfied: absl-py in /usr/local/lib/python3.10/dist-packages (from mediapipe) (1.4.0)\n",
            "Requirement already satisfied: attrs>=19.1.0 in /usr/local/lib/python3.10/dist-packages (from mediapipe) (24.2.0)\n",
            "Requirement already satisfied: flatbuffers>=2.0 in /usr/local/lib/python3.10/dist-packages (from mediapipe) (24.3.25)\n",
            "Requirement already satisfied: jax in /usr/local/lib/python3.10/dist-packages (from mediapipe) (0.4.33)\n",
            "Requirement already satisfied: jaxlib in /usr/local/lib/python3.10/dist-packages (from mediapipe) (0.4.33)\n",
            "Requirement already satisfied: matplotlib in /usr/local/lib/python3.10/dist-packages (from mediapipe) (3.8.0)\n",
            "Requirement already satisfied: numpy<2 in /usr/local/lib/python3.10/dist-packages (from mediapipe) (1.26.4)\n",
            "Requirement already satisfied: opencv-contrib-python in /usr/local/lib/python3.10/dist-packages (from mediapipe) (4.10.0.84)\n",
            "Requirement already satisfied: protobuf<5,>=4.25.3 in /usr/local/lib/python3.10/dist-packages (from mediapipe) (4.25.5)\n",
            "Requirement already satisfied: sounddevice>=0.4.4 in /usr/local/lib/python3.10/dist-packages (from mediapipe) (0.5.1)\n",
            "Requirement already satisfied: sentencepiece in /usr/local/lib/python3.10/dist-packages (from mediapipe) (0.2.0)\n",
            "Requirement already satisfied: CFFI>=1.0 in /usr/local/lib/python3.10/dist-packages (from sounddevice>=0.4.4->mediapipe) (1.17.1)\n",
            "Requirement already satisfied: ml-dtypes>=0.2.0 in /usr/local/lib/python3.10/dist-packages (from jax->mediapipe) (0.4.1)\n",
            "Requirement already satisfied: opt-einsum in /usr/local/lib/python3.10/dist-packages (from jax->mediapipe) (3.4.0)\n",
            "Requirement already satisfied: scipy>=1.10 in /usr/local/lib/python3.10/dist-packages (from jax->mediapipe) (1.13.1)\n",
            "Requirement already satisfied: contourpy>=1.0.1 in /usr/local/lib/python3.10/dist-packages (from matplotlib->mediapipe) (1.3.1)\n",
            "Requirement already satisfied: cycler>=0.10 in /usr/local/lib/python3.10/dist-packages (from matplotlib->mediapipe) (0.12.1)\n",
            "Requirement already satisfied: fonttools>=4.22.0 in /usr/local/lib/python3.10/dist-packages (from matplotlib->mediapipe) (4.55.1)\n",
            "Requirement already satisfied: kiwisolver>=1.0.1 in /usr/local/lib/python3.10/dist-packages (from matplotlib->mediapipe) (1.4.7)\n",
            "Requirement already satisfied: packaging>=20.0 in /usr/local/lib/python3.10/dist-packages (from matplotlib->mediapipe) (24.2)\n",
            "Requirement already satisfied: pillow>=6.2.0 in /usr/local/lib/python3.10/dist-packages (from matplotlib->mediapipe) (11.0.0)\n",
            "Requirement already satisfied: pyparsing>=2.3.1 in /usr/local/lib/python3.10/dist-packages (from matplotlib->mediapipe) (3.2.0)\n",
            "Requirement already satisfied: python-dateutil>=2.7 in /usr/local/lib/python3.10/dist-packages (from matplotlib->mediapipe) (2.8.2)\n",
            "Requirement already satisfied: pycparser in /usr/local/lib/python3.10/dist-packages (from CFFI>=1.0->sounddevice>=0.4.4->mediapipe) (2.22)\n",
            "Requirement already satisfied: six>=1.5 in /usr/local/lib/python3.10/dist-packages (from python-dateutil>=2.7->matplotlib->mediapipe) (1.16.0)\n"
          ]
        }
      ],
      "source": [
        "# Install required libraries\n",
        "!pip install mediapipe opencv-python-headless"
      ]
    },
    {
      "cell_type": "markdown",
      "source": [
        "## **Step 2: Import Required Libraries**\n",
        "\n",
        "We import the following libraries:\n",
        "\n",
        "- **OpenCV**: For image and video processing.  \n",
        "- **MediaPipe**: For human pose landmark detection.  \n",
        "- **NumPy**: For numerical operations like keypoint comparisons.  \n",
        "- **Colab Patches**: For displaying images in Google Colab.\n"
      ],
      "metadata": {
        "id": "TalrrWG58tBf"
      }
    },
    {
      "cell_type": "code",
      "source": [
        "import cv2\n",
        "import mediapipe as mp\n",
        "import numpy as np\n",
        "from google.colab.patches import cv2_imshow"
      ],
      "metadata": {
        "id": "ChDybJQRtVMk"
      },
      "execution_count": 3,
      "outputs": []
    },
    {
      "cell_type": "markdown",
      "source": [
        "## **Step 3: Initialize MediaPipe Pose**\n",
        "\n",
        "We initialize **MediaPipe Pose** to detect and track human body landmarks.  \n",
        "- `mp_pose.Pose`: A model that processes video frames and identifies keypoints.  \n",
        "- Parameters:  \n",
        "  - **`static_image_mode=False`**: Allows video input for real-time tracking.  \n",
        "  - **`min_detection_confidence=0.5`**: Minimum confidence threshold for detecting a pose.  \n",
        "  - **`min_tracking_confidence=0.5`**: Minimum confidence threshold for tracking pose landmarks across frames.  \n"
      ],
      "metadata": {
        "id": "QW0Sjjj6zLeB"
      }
    },
    {
      "cell_type": "code",
      "source": [
        "mp_pose = mp.solutions.pose\n",
        "mp_drawing = mp.solutions.drawing_utils\n",
        "\n",
        "# Initialize MediaPipe Pose\n",
        "pose = mp_pose.Pose(static_image_mode=False, min_detection_confidence=0.5, min_tracking_confidence=0.5)"
      ],
      "metadata": {
        "id": "bBSIoBrStVPQ"
      },
      "execution_count": 4,
      "outputs": []
    },
    {
      "cell_type": "markdown",
      "source": [
        "## **Step 4: Define Helper Functions**\n",
        "\n",
        "### **1. Calculate Joint Angles**\n",
        "The `calculate_angle` function computes the angle between three points (e.g., shoulder, elbow, wrist) using their **(x, y)** coordinates.\n",
        "\n",
        "- **Inputs**:\n",
        "   - `a`: First point (e.g., shoulder).  \n",
        "   - `b`: Middle point (e.g., elbow).  \n",
        "   - `c`: End point (e.g., wrist).  \n",
        "- **Logic**:\n",
        "   - The angle is calculated using **arctangent differences** between vectors.  \n",
        "   - The result is normalized to ensure it remains within **0° to 180°**.  \n",
        "- **Output**: The angle in degrees.\n",
        "\n",
        "### **2. Extract Keypoints**\n",
        "The `extract_keypoints` function retrieves the **landmark coordinates** of specific body parts from MediaPipe's pose detection.\n",
        "\n",
        "- **Keypoints Extracted**:\n",
        "   - Left Shoulder  \n",
        "   - Left Elbow  \n",
        "   - Left Wrist  \n",
        "   - Left Hip  \n",
        "   - Left Knee  \n",
        "   - Left Ankle  \n",
        "- **Output**: A dictionary containing normalized (x, y) coordinates of keypoints.  \n"
      ],
      "metadata": {
        "id": "DYXrc_WlzMHd"
      }
    },
    {
      "cell_type": "code",
      "source": [
        "def calculate_angle(a, b, c):\n",
        "    \"\"\"Calculate the angle between three points (a, b, c).\"\"\"\n",
        "    a = np.array(a)  # First point\n",
        "    b = np.array(b)  # Mid point\n",
        "    c = np.array(c)  # End point\n",
        "\n",
        "    radians = np.arctan2(c[1] - b[1], c[0] - b[0]) - np.arctan2(a[1] - b[1], a[0] - b[0])\n",
        "    angle = np.abs(radians * 180.0 / np.pi)\n",
        "\n",
        "    if angle > 180.0:\n",
        "        angle = 360 - angle\n",
        "\n",
        "    return angle\n",
        "\n",
        "def extract_keypoints(results):\n",
        "    \"\"\"Extract keypoints from Mediapipe pose landmarks.\"\"\"\n",
        "    landmarks = results.pose_landmarks.landmark\n",
        "    keypoints = {\n",
        "        \"shoulder\": [landmarks[mp_pose.PoseLandmark.LEFT_SHOULDER.value].x,\n",
        "                     landmarks[mp_pose.PoseLandmark.LEFT_SHOULDER.value].y],\n",
        "        \"elbow\": [landmarks[mp_pose.PoseLandmark.LEFT_ELBOW.value].x,\n",
        "                  landmarks[mp_pose.PoseLandmark.LEFT_ELBOW.value].y],\n",
        "        \"wrist\": [landmarks[mp_pose.PoseLandmark.LEFT_WRIST.value].x,\n",
        "                  landmarks[mp_pose.PoseLandmark.LEFT_WRIST.value].y],\n",
        "        \"hip\": [landmarks[mp_pose.PoseLandmark.LEFT_HIP.value].x,\n",
        "                landmarks[mp_pose.PoseLandmark.LEFT_HIP.value].y],\n",
        "        \"knee\": [landmarks[mp_pose.PoseLandmark.LEFT_KNEE.value].x,\n",
        "                 landmarks[mp_pose.PoseLandmark.LEFT_KNEE.value].y],\n",
        "        \"ankle\": [landmarks[mp_pose.PoseLandmark.LEFT_ANKLE.value].x,\n",
        "                  landmarks[mp_pose.PoseLandmark.LEFT_ANKLE.value].y],\n",
        "    }\n",
        "    return keypoints"
      ],
      "metadata": {
        "id": "ielI44aQtVRU"
      },
      "execution_count": 5,
      "outputs": []
    },
    {
      "cell_type": "markdown",
      "source": [
        "## **Step 5: Process and Analyze a Single Image**\n",
        "\n",
        "In this step, we:\n",
        "1. **Load an Input Image**: Use OpenCV to read and process the input yoga image.  \n",
        "2. **Detect Pose Landmarks**: Use MediaPipe Pose to identify keypoints.  \n",
        "3. **Calculate Joint Angles**: Compute the angles for joints such as the elbow and knee.  \n",
        "4. **Provide Feedback**: Overlay the calculated angles on the image and display it.\n",
        "\n",
        "- **Logic**:\n",
        "   - Extract **keypoints** for the shoulder, elbow, wrist, hip, knee, and ankle.  \n",
        "   - Calculate the **elbow and knee angles** using the `calculate_angle` function.  \n",
        "   - Display feedback with angles on the image using OpenCV.  \n"
      ],
      "metadata": {
        "id": "bczwJxwb9RVI"
      }
    },
    {
      "cell_type": "code",
      "source": [
        "# Load the input image\n",
        "image_path = \"/content/yoga_example.jpg\"\n",
        "image = cv2.imread(image_path)\n",
        "image_rgb = cv2.cvtColor(image, cv2.COLOR_BGR2RGB)\n",
        "\n",
        "# Detect Pose\n",
        "results = pose.process(image_rgb)\n",
        "\n",
        "# Draw Pose Landmarks\n",
        "if results.pose_landmarks:\n",
        "    mp_drawing.draw_landmarks(image, results.pose_landmarks, mp_pose.POSE_CONNECTIONS)\n",
        "\n",
        "    # Extract keypoints and calculate angles\n",
        "    keypoints = extract_keypoints(results)\n",
        "    elbow_angle = calculate_angle(keypoints['shoulder'], keypoints['elbow'], keypoints['wrist'])\n",
        "    knee_angle = calculate_angle(keypoints['hip'], keypoints['knee'], keypoints['ankle'])\n",
        "\n",
        "    # Feedback\n",
        "    feedback = f\"Elbow Angle: {elbow_angle:.2f}° | Knee Angle: {knee_angle:.2f}°\"\n",
        "    print(feedback)\n",
        "    cv2.putText(image, feedback, (50, 50), cv2.FONT_HERSHEY_SIMPLEX, 1, (0, 255, 0), 2)\n",
        "\n",
        "# Display Result\n",
        "cv2_imshow(image)\n"
      ],
      "metadata": {
        "colab": {
          "base_uri": "https://localhost:8080/",
          "height": 233
        },
        "id": "l0jD11hltVVd",
        "outputId": "572b61df-a0c5-4610-bf95-7e5562fb6d2a"
      },
      "execution_count": 6,
      "outputs": [
        {
          "output_type": "stream",
          "name": "stdout",
          "text": [
            "Elbow Angle: 170.30° | Knee Angle: 173.89°\n"
          ]
        },
        {
          "output_type": "display_data",
          "data": {
            "text/plain": [
              "<PIL.Image.Image image mode=RGB size=257x198>"
            ],
            "image/png": "[encoded data removed]",
            "image/jpeg": "[encoded data removed]"
          },
          "metadata": {}
        }
      ]
    },
    {
      "cell_type": "markdown",
      "source": [
        "## **Step 6: Pose Detection and Keypoint Extraction**\n",
        "\n",
        "In this step, we:\n",
        "1. **Detect the Pose**: Use **MediaPipe Pose** to identify keypoints (shoulders, elbows, wrists, etc.) from the image.  \n",
        "2. **Extract Keypoints**: The `extract_keypoints` function normalizes the **(x, y)** coordinates of detected landmarks.\n",
        "\n",
        "### **Helper Function - Extract Keypoints**:\n",
        "The function takes the landmarks detected by **MediaPipe** and returns the normalized coordinates as an array.\n",
        "\n",
        "- **Input**:  \n",
        "   - `landmarks`: The pose landmarks detected by **MediaPipe Pose**.\n",
        "  \n",
        "- **Output**:  \n",
        "   - **An array** of normalized **(x, y)** coordinates for each keypoint.\n",
        "\n",
        "```python\n",
        "def extract_keypoints(landmarks):\n",
        "    \"\"\"Extract and normalize keypoints from pose landmarks.\"\"\"\n",
        "    keypoints = []\n",
        "    for landmark in landmarks:\n",
        "        keypoints.append([landmark.x, landmark.y])  # x and y coordinates\n",
        "    return np.array(keypoints)\n"
      ],
      "metadata": {
        "id": "kQR3AvVE9bEk"
      }
    },
    {
      "cell_type": "code",
      "source": [
        "def extract_keypoints(landmarks):\n",
        "    \"\"\"Extract and normalize keypoints from pose landmarks.\"\"\"\n",
        "    keypoints = []\n",
        "    for landmark in landmarks:\n",
        "        keypoints.append([landmark.x, landmark.y])  # x and y coordinates\n",
        "    return np.array(keypoints)"
      ],
      "metadata": {
        "id": "j6Ax74AN4kM2"
      },
      "execution_count": 19,
      "outputs": []
    },
    {
      "cell_type": "code",
      "source": [
        "def calculate_accuracy(reference_keypoints, user_keypoints):\n",
        "    \"\"\"Calculate pose similarity accuracy using Euclidean distance.\"\"\"\n",
        "    if reference_keypoints.shape != user_keypoints.shape:\n",
        "        return 0.0  # If shapes don't match, return 0 accuracy\n",
        "\n",
        "    # Calculate Euclidean distances between corresponding keypoints\n",
        "    distances = np.linalg.norm(reference_keypoints - user_keypoints, axis=1)\n",
        "\n",
        "    # Normalize score: lower distance -> higher similarity\n",
        "    score = max(0, 100 - np.mean(distances) * 100)  # Scale to 0-100%\n",
        "    return round(score, 2)\n"
      ],
      "metadata": {
        "id": "v9QJ6XLI4kPw"
      },
      "execution_count": 20,
      "outputs": []
    },
    {
      "cell_type": "markdown",
      "source": [
        "## **Step 7: Process Video for Pose Detection and Accuracy Calculation**\n",
        "\n",
        "In this step, we:\n",
        "1. **Load the Video**: Use OpenCV to read and process the video frame by frame.\n",
        "2. **Pose Detection**: Detect and track poses in each frame using **MediaPipe Pose**.\n",
        "3. **Compare Pose Accuracy**: The first detected pose is stored as a reference, and each subsequent frame is compared to this reference pose.\n",
        "4. **Display Results**: The pose accuracy is shown on each frame, and the frame is displayed in Google Colab.\n",
        "5. **Plot Pose Accuracy**: After processing the video, a plot of pose accuracy over time is generated.\n",
        "\n",
        "### **Code Explanation**:\n",
        "1. **`cv2.VideoCapture(video_path)`**: Opens the video for processing.\n",
        "2. **`frame_skip`**: Skips frames to speed up processing.\n",
        "3. **Pose Detection and Keypoint Extraction**: Each frame's landmarks are extracted using `extract_keypoints`.\n",
        "4. **Pose Accuracy Calculation**: We compare each frame's pose to the **reference pose** using `calculate_accuracy`.\n",
        "5. **Feedback and Visualization**: Overlay pose accuracy on each frame and display the frame using `cv2_imshow`.\n",
        "6. **Final Plot**: After processing the video, we plot the **pose accuracy** over time.\n"
      ],
      "metadata": {
        "id": "wZaeVYOD93-A"
      }
    },
    {
      "cell_type": "code",
      "source": [
        "# Load the video\n",
        "video_path = \"/content/3327959-hd_1920_1080_24fps (1).mp4\"\n",
        "cap = cv2.VideoCapture(video_path)\n",
        "\n",
        "frame_skip = 5  # Process every 5th frame\n",
        "frame_count = 0\n",
        "pose_scores = []  # Store accuracy scores\n",
        "reference_pose = None  # To store the first detected pose as reference\n",
        "\n",
        "while cap.isOpened():\n",
        "    ret, frame = cap.read()\n",
        "    if not ret:\n",
        "        print(\"End of video.\")\n",
        "        break\n",
        "\n",
        "    frame_count += 1\n",
        "    if frame_count % frame_skip != 0:\n",
        "        continue  # Skip frames for faster processing\n",
        "\n",
        "    # Convert to RGB\n",
        "    frame_rgb = cv2.cvtColor(frame, cv2.COLOR_BGR2RGB)\n",
        "    results = pose.process(frame_rgb)\n",
        "\n",
        "    # Check for pose detection\n",
        "    if results.pose_landmarks:\n",
        "        # Extract keypoints\n",
        "        user_keypoints = extract_keypoints(results.pose_landmarks.landmark)\n",
        "\n",
        "        # Set the first detected pose as reference\n",
        "        if reference_pose is None:\n",
        "            reference_pose = user_keypoints\n",
        "            print(\"Reference Pose Set!\")\n",
        "\n",
        "        # Compare user pose to reference pose\n",
        "        pose_accuracy = calculate_accuracy(reference_pose, user_keypoints)\n",
        "        pose_scores.append(pose_accuracy)\n",
        "\n",
        "        # Display Pose Accuracy on the Frame\n",
        "        feedback = f\"Pose Accuracy: {pose_accuracy:.2f}%\"\n",
        "        cv2.putText(frame, feedback, (50, 50), cv2.FONT_HERSHEY_SIMPLEX, 1, (0, 255, 0), 2)\n",
        "\n",
        "        # Draw landmarks\n",
        "        mp_drawing.draw_landmarks(frame, results.pose_landmarks, mp_pose.POSE_CONNECTIONS)\n",
        "\n",
        "    # Display the processed frame\n",
        "    cv2_imshow(frame)\n",
        "\n",
        "cap.release()\n",
        "\n",
        "# Plot Pose Accuracy\n",
        "if pose_scores:\n",
        "    plt.figure(figsize=(10, 6))\n",
        "    plt.plot(range(1, len(pose_scores) + 1), pose_scores, marker='o', color='green')\n",
        "    plt.title(\"Frame-wise Pose Accuracy\")\n",
        "    plt.xlabel(\"Frame\")\n",
        "    plt.ylabel(\"Pose Accuracy (%)\")\n",
        "    plt.grid()\n",
        "    plt.show()\n",
        "else:\n",
        "    print(\"No valid pose scores collected.\")\n"
      ],
      "metadata": {
        "id": "wJbkXkdn4kY3"
      },
      "execution_count": null,
      "outputs": []
    }
  ]
}